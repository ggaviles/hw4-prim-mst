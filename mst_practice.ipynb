{
 "cells": [
  {
   "cell_type": "code",
   "execution_count": null,
   "metadata": {
    "collapsed": true
   },
   "outputs": [],
   "source": [
    "import numpy as np\n",
    "import heapq as hq\n",
    "from typing import Union"
   ]
  },
  {
   "cell_type": "code",
   "execution_count": null,
   "outputs": [],
   "source": [
    "class Graph:\n",
    "\n",
    "    def __init__(self, adjacency_mat: Union[np.ndarray, str]):\n",
    "        \"\"\"\n",
    "\n",
    "        Unlike the BFS assignment, this Graph class takes an adjacency matrix as input. `adjacency_mat`\n",
    "        can either be a 2D numpy array of floats or a path to a CSV file containing a 2D numpy array of floats.\n",
    "\n",
    "        In this project, we will assume `adjacency_mat` corresponds to the adjacency matrix of an undirected graph.\n",
    "\n",
    "        \"\"\"\n",
    "        if type(adjacency_mat) == str:\n",
    "            self.adj_mat = self._load_adjacency_matrix_from_csv(adjacency_mat)\n",
    "        elif type(adjacency_mat) == np.ndarray:\n",
    "            self.adj_mat = adjacency_mat\n",
    "        else:\n",
    "            raise TypeError('Input must be a valid path or an adjacency matrix')\n",
    "        self.mst = None\n",
    "\n",
    "    def _load_adjacency_matrix_from_csv(self, path: str) -> np.ndarray:\n",
    "        with open(path) as f:\n",
    "            return np.loadtxt(f, delimiter=',')"
   ],
   "metadata": {
    "collapsed": false
   }
  },
  {
   "cell_type": "code",
   "execution_count": null,
   "outputs": [],
   "source": [
    "#prim = Graph('/Users/giovanniaviles/Documents/Winter_2023/BMI_203/hw4-prim-mst/data/small.csv')"
   ],
   "metadata": {
    "collapsed": false
   }
  },
  {
   "cell_type": "code",
   "execution_count": 148,
   "outputs": [
    {
     "name": "stdout",
     "output_type": "stream",
     "text": [
      "[[0. 5. 0. 5.]\n",
      " [5. 0. 1. 2.]\n",
      " [0. 1. 0. 4.]\n",
      " [5. 2. 4. 0.]]\n"
     ]
    }
   ],
   "source": [
    "prim = np.loadtxt('/Users/giovanniaviles/Documents/Winter_2023/BMI_203/hw4-prim-mst/data/small.csv', delimiter=',')\n",
    "print(prim)"
   ],
   "metadata": {
    "collapsed": false
   }
  },
  {
   "cell_type": "code",
   "execution_count": 165,
   "outputs": [
    {
     "ename": "IndexError",
     "evalue": "only integers, slices (`:`), ellipsis (`...`), numpy.newaxis (`None`) and integer or boolean arrays are valid indices",
     "output_type": "error",
     "traceback": [
      "\u001B[0;31m---------------------------------------------------------------------------\u001B[0m",
      "\u001B[0;31mIndexError\u001B[0m                                Traceback (most recent call last)",
      "Cell \u001B[0;32mIn[165], line 4\u001B[0m\n\u001B[1;32m      2\u001B[0m j \u001B[38;5;241m=\u001B[39m np\u001B[38;5;241m.\u001B[39mwhere(prim[\u001B[38;5;241m0\u001B[39m] \u001B[38;5;241m==\u001B[39m np\u001B[38;5;241m.\u001B[39mmin(prim[\u001B[38;5;241m0\u001B[39m]))\n\u001B[1;32m      3\u001B[0m m \u001B[38;5;241m=\u001B[39m \u001B[38;5;28mmin\u001B[39m(i \u001B[38;5;28;01mfor\u001B[39;00m i \u001B[38;5;129;01min\u001B[39;00m prim[\u001B[38;5;241m0\u001B[39m] \u001B[38;5;28;01mif\u001B[39;00m i \u001B[38;5;241m>\u001B[39m \u001B[38;5;241m0\u001B[39m)\n\u001B[0;32m----> 4\u001B[0m \u001B[43mprim\u001B[49m\u001B[43m[\u001B[49m\u001B[38;5;241;43m0\u001B[39;49m\u001B[43m]\u001B[49m\u001B[43m[\u001B[49m\u001B[43mm\u001B[49m\u001B[43m]\u001B[49m\n\u001B[1;32m      5\u001B[0m \u001B[38;5;28mprint\u001B[39m(m)\n",
      "\u001B[0;31mIndexError\u001B[0m: only integers, slices (`:`), ellipsis (`...`), numpy.newaxis (`None`) and integer or boolean arrays are valid indices"
     ]
    }
   ],
   "source": [
    "i = np.where(prim[1]==np.min(prim[1][np.nonzero(prim[1])]))\n",
    "j = np.where(prim[0] == np.min(prim[0]))\n",
    "m = min(i for i in prim[0] if i > 0)\n",
    "prim[0][m]\n",
    "print(m)"
   ],
   "metadata": {
    "collapsed": false
   }
  },
  {
   "cell_type": "code",
   "execution_count": 197,
   "outputs": [
    {
     "name": "stdout",
     "output_type": "stream",
     "text": [
      "[5. 1. 1. 2.]\n"
     ]
    }
   ],
   "source": [
    "minimum_edge_values_in_array = np.where(prim>0, prim, np.inf).min(axis=1)\n",
    "print(minimum_edge_values_in_array)  # Not helpful because edge selection dependent on current node"
   ],
   "metadata": {
    "collapsed": false
   }
  },
  {
   "cell_type": "code",
   "execution_count": 261,
   "outputs": [
    {
     "name": "stdout",
     "output_type": "stream",
     "text": [
      "[0 2 3]\n"
     ]
    }
   ],
   "source": [
    "nonzero_indices = np.nonzero(prim[1])\n",
    "nonzero_indices = np.array(m).flatten()\n"
   ],
   "metadata": {
    "collapsed": false
   }
  },
  {
   "cell_type": "code",
   "execution_count": 271,
   "outputs": [
    {
     "name": "stdout",
     "output_type": "stream",
     "text": [
      "[0, 2, 3]\n"
     ]
    }
   ],
   "source": [
    "nonzero_indices_two = [i for i, x in enumerate(prim[1]) if x > 0]\n",
    "print(nonzero_indices_two)"
   ],
   "metadata": {
    "collapsed": false
   }
  },
  {
   "cell_type": "code",
   "execution_count": 282,
   "outputs": [
    {
     "name": "stdout",
     "output_type": "stream",
     "text": [
      "[5]\n"
     ]
    }
   ],
   "source": [
    "m = min([x for x in prim[1] if x > 0])\n",
    "min_index, = np.where(prim[1] == m)\n",
    "print(min_index)"
   ],
   "metadata": {
    "collapsed": false
   }
  },
  {
   "cell_type": "code",
   "execution_count": null,
   "outputs": [],
   "source": [
    "heap = []\n",
    "hq.heapify(heap)\n",
    "item = [20, 4, 8, 10, 5, 7, 6, 2, 9]\n",
    "for i in item:\n",
    "    hq.heappush(heap, i)\n",
    "heap.sort()"
   ],
   "metadata": {
    "collapsed": false
   }
  },
  {
   "cell_type": "code",
   "execution_count": 110,
   "outputs": [
    {
     "ename": "TypeError",
     "evalue": "'ndenumerate' object is not subscriptable",
     "output_type": "error",
     "traceback": [
      "\u001B[0;31m---------------------------------------------------------------------------\u001B[0m",
      "\u001B[0;31mTypeError\u001B[0m                                 Traceback (most recent call last)",
      "Cell \u001B[0;32mIn[110], line 1\u001B[0m\n\u001B[0;32m----> 1\u001B[0m \u001B[43mnp\u001B[49m\u001B[38;5;241;43m.\u001B[39;49m\u001B[43mndenumerate\u001B[49m\u001B[43m(\u001B[49m\u001B[43mprim_read_in\u001B[49m\u001B[43m)\u001B[49m\u001B[43m[\u001B[49m\u001B[38;5;241;43m0\u001B[39;49m\u001B[43m]\u001B[49m\n",
      "\u001B[0;31mTypeError\u001B[0m: 'ndenumerate' object is not subscriptable"
     ]
    }
   ],
   "source": [
    "np.ndenumerate(prim_read_in)"
   ],
   "metadata": {
    "collapsed": false
   }
  },
  {
   "cell_type": "code",
   "execution_count": 136,
   "outputs": [
    {
     "name": "stdout",
     "output_type": "stream",
     "text": [
      "[[0.0, 1.0, 0.0, 4.0], [5.0, 0.0, 1.0, 2.0], [0.0, 5.0, 0.0, 5.0], [5.0, 2.0, 4.0, 0.0]]\n"
     ]
    },
    {
     "data": {
      "text/plain": "[[0.0, 1.0, 0.0, 4.0]]"
     },
     "execution_count": 136,
     "metadata": {},
     "output_type": "execute_result"
    }
   ],
   "source": [
    "vertices = []\n",
    "for i in prim_read_in.tolist():\n",
    "    hq.heappush(vertices, i)\n",
    "print(vertices)\n",
    "hq.nsmallest(1, vertices)\n",
    "#for i, j in enumerate(prim_read_in.tolist()):\n",
    "#    hq.heappush(vertices, j)  # Make heap of vertices\n",
    "#print(vertices)"
   ],
   "metadata": {
    "collapsed": false
   }
  },
  {
   "cell_type": "code",
   "execution_count": 98,
   "outputs": [
    {
     "name": "stdout",
     "output_type": "stream",
     "text": [
      "[0, 1, 2, 3]\n"
     ]
    }
   ],
   "source": [
    "start = prim_read_in[0][0]\n",
    "prim.mst.add(start)\n",
    "for a in prim_read_in[start]:\n",
    "    hq.heappush(vertices, a)\n",
    "while prim.mst:\n",
    "    weight, next_node = hq.heappop()\n",
    "for i, j in enumerate(prim_read_in.tolist()):\n",
    "    hq.heappush(vertices, i)\n",
    "\n",
    "print(vertices)"
   ],
   "metadata": {
    "collapsed": false
   }
  },
  {
   "cell_type": "code",
   "execution_count": null,
   "outputs": [],
   "source": [
    "prim.mst = []  # Initialize mst as a priority queue\n",
    "hq.heapify(prim.mst)\n",
    "\n",
    "outgoing_edges = []  # Initialize outgoing_edges as a priority queue\n",
    "hq.heapify(outgoing_edges)"
   ],
   "metadata": {
    "collapsed": false
   }
  },
  {
   "cell_type": "code",
   "execution_count": 95,
   "outputs": [
    {
     "name": "stdout",
     "output_type": "stream",
     "text": [
      "0.0\n",
      "5.0\n",
      "0.0\n",
      "5.0\n",
      "5.0\n",
      "0.0\n",
      "1.0\n",
      "2.0\n",
      "0.0\n",
      "1.0\n",
      "0.0\n",
      "4.0\n",
      "5.0\n",
      "2.0\n",
      "4.0\n",
      "0.0\n"
     ]
    }
   ],
   "source": [
    "visited = set()  # Initialize a set to keep track of visited nodes\n",
    "weights = []\n",
    "for i, j in enumerate(prim_read_in.tolist()):\n",
    "\n",
    "    visited.add(i)  # Add vertex to visited\n",
    "\n",
    "\n",
    "\n",
    "for i, j in enumerate(prim_read_in.tolist()):\n",
    "    visited.add(i)  # Add vertex to visited\n",
    "    for edges in prim_read_in.tolist()[i]:  # Access adjacency matrix values\n",
    "        hq.heappush(outgoing_edges, edges)  # Push all edge weights from one node to heap\n",
    "        outgoing_edges.sort()  # Sort edges by weight\n",
    "        weights.add(hq.heappop(outgoing_edges))  # Add smallest weight of neighboring edges\n",
    "\n",
    "\n",
    "    hq.heappush(prim.mst, prim_read_in[i])  # Add\n",
    "    weights.add(hq.heappop(outgoing_edges))  # Add smallest weight of neighboring edges\n",
    "\n",
    "# Need a while group to add nodes to visited\n",
    "\n",
    "outgoing_edges = []  # Initialize outgoing_edges as a priority queue\n",
    "hq.heapify(outgoing_edges)"
   ],
   "metadata": {
    "collapsed": false
   }
  },
  {
   "cell_type": "code",
   "execution_count": null,
   "outputs": [],
   "source": [],
   "metadata": {
    "collapsed": false
   }
  },
  {
   "cell_type": "code",
   "execution_count": null,
   "outputs": [],
   "source": [
    "# Add initial vertex\n",
    "visited"
   ],
   "metadata": {
    "collapsed": false
   }
  },
  {
   "cell_type": "code",
   "execution_count": null,
   "outputs": [],
   "source": [
    "while v not in visited:\n",
    "    # Pop lowest weight edge from priority queue\n",
    "    hq.heappop(outgoing_edges)\n",
    "\n",
    "    if next_v not in visited:\n",
    "        hq.heappush(self.mst, next_v)  # Add edge to mst\n",
    "        visited.add(next_v)"
   ],
   "metadata": {
    "collapsed": false
   }
  },
  {
   "cell_type": "code",
   "execution_count": null,
   "outputs": [],
   "source": [
    "total = 0                   # Total cost of edges in tree\n",
    "explored = set()            # Set of vertices in tree\n",
    "start = next(iter(graph))   # Arbitrary starting vertex\n",
    "unexplored = [(0, start)]   # Unexplored edges ordered by cost\n",
    "while unexplored:\n",
    "    cost, winner = heappop(unexplored)\n",
    "    if winner not in explored:\n",
    "        explored.add(winner)\n",
    "        total += cost\n",
    "        for neighbour, cost in graph[winner]:\n",
    "            if neighbour not in explored:\n",
    "                heappush(unexplored, (cost, neighbour))\n",
    "return total"
   ],
   "metadata": {
    "collapsed": false
   }
  },
  {
   "cell_type": "code",
   "execution_count": 204,
   "outputs": [],
   "source": [
    "from mst import Graph"
   ],
   "metadata": {
    "collapsed": false
   }
  },
  {
   "cell_type": "code",
   "execution_count": 205,
   "outputs": [],
   "source": [
    "prim_graph = Graph('./data/small.csv')\n"
   ],
   "metadata": {
    "collapsed": false
   }
  },
  {
   "cell_type": "code",
   "execution_count": 206,
   "outputs": [
    {
     "name": "stdout",
     "output_type": "stream",
     "text": [
      "<mst.graph.Graph object at 0x11d39cf90>\n"
     ]
    }
   ],
   "source": [
    "print(prim_graph)"
   ],
   "metadata": {
    "collapsed": false
   }
  },
  {
   "cell_type": "code",
   "execution_count": 210,
   "outputs": [
    {
     "data": {
      "text/plain": "4"
     },
     "execution_count": 210,
     "metadata": {},
     "output_type": "execute_result"
    }
   ],
   "source": [
    "len(prim_graph.adj_mat)"
   ],
   "metadata": {
    "collapsed": false
   }
  },
  {
   "cell_type": "code",
   "execution_count": 211,
   "outputs": [
    {
     "data": {
      "text/plain": "array([0., 5., 0., 5.])"
     },
     "execution_count": 211,
     "metadata": {},
     "output_type": "execute_result"
    }
   ],
   "source": [
    "prim_graph.adj_mat[0]"
   ],
   "metadata": {
    "collapsed": false
   }
  },
  {
   "cell_type": "code",
   "execution_count": 289,
   "outputs": [
    {
     "name": "stdout",
     "output_type": "stream",
     "text": [
      "[0. 5. 0. 5.]\n",
      "[5. 0. 1. 2.]\n",
      "[0. 1. 0. 4.]\n",
      "[5. 2. 4. 0.]\n",
      "[5.0, 2.0, 4.0, 0.0]\n"
     ]
    }
   ],
   "source": [
    "visited = set()\n",
    "\n",
    "for i, j in enumerate(prim_graph.adj_mat):\n",
    "    visited.add(i)\n",
    "    print(j)\n",
    "    heap = [_ for _ in j]\n",
    "print(heap)"
   ],
   "metadata": {
    "collapsed": false
   }
  },
  {
   "cell_type": "code",
   "execution_count": 285,
   "outputs": [
    {
     "ename": "IndexError",
     "evalue": "arrays used as indices must be of integer (or boolean) type",
     "output_type": "error",
     "traceback": [
      "\u001B[0;31m---------------------------------------------------------------------------\u001B[0m",
      "\u001B[0;31mIndexError\u001B[0m                                Traceback (most recent call last)",
      "Cell \u001B[0;32mIn[285], line 2\u001B[0m\n\u001B[1;32m      1\u001B[0m \u001B[38;5;28;01mfor\u001B[39;00m i, j \u001B[38;5;129;01min\u001B[39;00m \u001B[38;5;28menumerate\u001B[39m(prim_graph\u001B[38;5;241m.\u001B[39madj_mat):\n\u001B[0;32m----> 2\u001B[0m     \u001B[38;5;28mprint\u001B[39m(\u001B[43mprim_graph\u001B[49m\u001B[38;5;241;43m.\u001B[39;49m\u001B[43madj_mat\u001B[49m\u001B[43m[\u001B[49m\u001B[43mj\u001B[49m\u001B[43m]\u001B[49m)\n",
      "\u001B[0;31mIndexError\u001B[0m: arrays used as indices must be of integer (or boolean) type"
     ]
    }
   ],
   "source": [
    "heap = [_ for _ in prim_graph.adj_mat[random_starting_index]]"
   ],
   "metadata": {
    "collapsed": false
   }
  },
  {
   "cell_type": "code",
   "execution_count": 388,
   "outputs": [
    {
     "ename": "SyntaxError",
     "evalue": "invalid syntax (265640061.py, line 15)",
     "output_type": "error",
     "traceback": [
      "\u001B[0;36m  Cell \u001B[0;32mIn[388], line 15\u001B[0;36m\u001B[0m\n\u001B[0;31m    print(next_node) '''NEED TO CONTROL FOR SAME VALUES'''\u001B[0m\n\u001B[0m                     ^\u001B[0m\n\u001B[0;31mSyntaxError\u001B[0m\u001B[0;31m:\u001B[0m invalid syntax\n"
     ]
    }
   ],
   "source": [
    "# Generate a random starting index in order to randomly choose a node from which to build the mst\n",
    "random_starting_index = np.random.randint(0, len(prim_graph.adj_mat))\n",
    "\n",
    "visited = set()  # Initialize set of visited nodes\n",
    "visited.add(random_starting_index)  # Add starting nodes\n",
    "\n",
    "# Starting node's smallest edge\n",
    "next_edge = min([x for x in prim_graph.adj_mat[random_starting_index] if x > 0])\n",
    "\n",
    "# Add edge to mst\n",
    "#self.mst.append(next_edge)\n",
    "\n",
    "# Next node in mst (finds index for which distance is least)\n",
    "next_node, = np.where(prim_graph.adj_mat[random_starting_index] == next_edge)\n",
    "print(next_node) '''NEED TO CONTROL FOR SAME VALUES'''\n",
    "# Add node to visited set\n",
    "visited.add(next_node)"
   ],
   "metadata": {
    "collapsed": false
   }
  },
  {
   "cell_type": "code",
   "execution_count": 441,
   "outputs": [
    {
     "ename": "TypeError",
     "evalue": "heappush expected 2 arguments, got 1",
     "output_type": "error",
     "traceback": [
      "\u001B[0;31m---------------------------------------------------------------------------\u001B[0m",
      "\u001B[0;31mTypeError\u001B[0m                                 Traceback (most recent call last)",
      "Cell \u001B[0;32mIn[441], line 3\u001B[0m\n\u001B[1;32m      1\u001B[0m random_starting_index \u001B[38;5;241m=\u001B[39m np\u001B[38;5;241m.\u001B[39mrandom\u001B[38;5;241m.\u001B[39mrandint(\u001B[38;5;241m0\u001B[39m, \u001B[38;5;28mlen\u001B[39m(prim_graph\u001B[38;5;241m.\u001B[39madj_mat))\n\u001B[1;32m      2\u001B[0m heap \u001B[38;5;241m=\u001B[39m [_ \u001B[38;5;28;01mfor\u001B[39;00m _ \u001B[38;5;129;01min\u001B[39;00m prim_graph\u001B[38;5;241m.\u001B[39madj_mat[random_starting_index]]\n\u001B[0;32m----> 3\u001B[0m heap \u001B[38;5;241m=\u001B[39m \u001B[43mhq\u001B[49m\u001B[38;5;241;43m.\u001B[39;49m\u001B[43mheappush\u001B[49m\u001B[43m(\u001B[49m\u001B[43mheap\u001B[49m\u001B[43m)\u001B[49m\n\u001B[1;32m      4\u001B[0m \u001B[38;5;28mprint\u001B[39m(heap)\n",
      "\u001B[0;31mTypeError\u001B[0m: heappush expected 2 arguments, got 1"
     ]
    }
   ],
   "source": [
    "random_starting_index = np.random.randint(0, len(prim_graph.adj_mat))\n",
    "heap = [_ for _ in prim_graph.adj_mat[random_starting_index]]\n",
    "heap = hq.heappush(heap)\n",
    "print(heap)"
   ],
   "metadata": {
    "collapsed": false
   }
  },
  {
   "cell_type": "code",
   "execution_count": 438,
   "outputs": [
    {
     "name": "stdout",
     "output_type": "stream",
     "text": [
      "[5.0, 5.0, inf, inf]\n"
     ]
    }
   ],
   "source": [
    "heap = [i if i != 0 else np.inf for i in heap]  # Replace all zeros with infinity values\n",
    "heap.sort()\n",
    "print(heap)"
   ],
   "metadata": {
    "collapsed": false
   }
  },
  {
   "cell_type": "code",
   "execution_count": 439,
   "outputs": [
    {
     "name": "stdout",
     "output_type": "stream",
     "text": [
      "[5.0, inf, inf]\n"
     ]
    }
   ],
   "source": [
    "hq.heappop(heap)\n",
    "print(heap)"
   ],
   "metadata": {
    "collapsed": false
   }
  },
  {
   "cell_type": "markdown",
   "source": [],
   "metadata": {
    "collapsed": false
   }
  },
  {
   "cell_type": "code",
   "execution_count": 446,
   "outputs": [
    {
     "name": "stdout",
     "output_type": "stream",
     "text": [
      "[[inf  5. inf  5.]\n",
      " [ 5. inf  1.  2.]\n",
      " [inf  1. inf  4.]\n",
      " [ 5.  2.  4. inf]]\n"
     ]
    }
   ],
   "source": [
    "prim_graph.adj_mat[prim_graph.adj_mat == 0] = np.inf\n",
    "print(prim_graph.adj_mat)"
   ],
   "metadata": {
    "collapsed": false
   }
  },
  {
   "cell_type": "code",
   "execution_count": 447,
   "outputs": [],
   "source": [
    "heap = [_ for _ in prim_graph.adj_mat[random_starting_index]]\n",
    "hq.heapify(heap)"
   ],
   "metadata": {
    "collapsed": false
   }
  },
  {
   "cell_type": "code",
   "execution_count": 448,
   "outputs": [
    {
     "name": "stdout",
     "output_type": "stream",
     "text": [
      "[2.0, 5.0, 4.0, inf]\n"
     ]
    }
   ],
   "source": [
    "print(heap)"
   ],
   "metadata": {
    "collapsed": false
   }
  },
  {
   "cell_type": "code",
   "execution_count": 449,
   "outputs": [
    {
     "name": "stdout",
     "output_type": "stream",
     "text": [
      "[4.0, 5.0, inf]\n"
     ]
    }
   ],
   "source": [
    "hq.heappop(heap)\n",
    "print(heap)"
   ],
   "metadata": {
    "collapsed": false
   }
  },
  {
   "cell_type": "code",
   "execution_count": 486,
   "outputs": [
    {
     "ename": "AttributeError",
     "evalue": "'Graph' object has no attribute 'adj_in'",
     "output_type": "error",
     "traceback": [
      "\u001B[0;31m---------------------------------------------------------------------------\u001B[0m",
      "\u001B[0;31mAttributeError\u001B[0m                            Traceback (most recent call last)",
      "Cell \u001B[0;32mIn[486], line 11\u001B[0m\n\u001B[1;32m      9\u001B[0m \u001B[38;5;28;01mwhile\u001B[39;00m heap \u001B[38;5;129;01mand\u001B[39;00m \u001B[38;5;28mlen\u001B[39m(visited) \u001B[38;5;241m!=\u001B[39m \u001B[38;5;28mlen\u001B[39m(prim_graph\u001B[38;5;241m.\u001B[39madj_mat):\n\u001B[1;32m     10\u001B[0m     shortest_edge \u001B[38;5;241m=\u001B[39m hq\u001B[38;5;241m.\u001B[39mheappop(heap)  \u001B[38;5;66;03m# Pop shortest_edge\u001B[39;00m\n\u001B[0;32m---> 11\u001B[0m     neighbor_node \u001B[38;5;241m=\u001B[39m \u001B[43mprim_graph\u001B[49m\u001B[38;5;241;43m.\u001B[39;49m\u001B[43madj_in\u001B[49m\n\u001B[1;32m     12\u001B[0m     \u001B[38;5;28;01mif\u001B[39;00m neighbor_node \u001B[38;5;129;01mnot\u001B[39;00m \u001B[38;5;129;01min\u001B[39;00m visited:  \u001B[38;5;66;03m# Check if neighboring node is already in visited\u001B[39;00m\n\u001B[1;32m     13\u001B[0m         visited\u001B[38;5;241m.\u001B[39madd(neighbor_node)\n",
      "\u001B[0;31mAttributeError\u001B[0m: 'Graph' object has no attribute 'adj_in'"
     ]
    }
   ],
   "source": [
    "prim_mst = []\n",
    "visited = set()\n",
    "\n",
    "random_starting_node = np.random.randint(0, len(prim_graph.adj_mat))\n",
    "prim_graph.adj_mat[prim_graph.adj_mat == 0] = np.inf  # Replace all zeros with infinity\n",
    "heap = [_ for _ in prim_graph.adj_mat[random_starting_node]]  # Return edges for random node\n",
    "hq.heapify(heap)  # Heapify heap\n",
    "\n",
    "visited.add(random_starting_node)  # Add first node to visited\n",
    "\n",
    "curr_node = random_starting_node\n",
    "\n",
    "while heap and len(visited) != len(prim_graph.adj_mat):\n",
    "    shortest_edge = hq.heappop(heap)  # Pop shortest_edge\n",
    "    curr_node = prim_graph.adj_mat[curr_node].tolist().index(shortest_edge)  # Assign index to next node\n",
    "    if curr_node not in visited:  # Check if neighboring node is already in visited\n",
    "        visited.add(curr_node)\n",
    "        prim_mst.append(shortest_edge)  # Add edge to mst\n",
    "        neighbor_edges = [_ for _ in prim_graph.adj_mat[curr_node]]\n",
    "        hq.heappush(heap, neighbor_edges)"
   ],
   "metadata": {
    "collapsed": false
   }
  },
  {
   "cell_type": "code",
   "execution_count": 492,
   "outputs": [
    {
     "data": {
      "text/plain": "array([inf,  5., inf,  5.])"
     },
     "execution_count": 492,
     "metadata": {},
     "output_type": "execute_result"
    }
   ],
   "source": [
    "prim_graph.adj_mat[0]"
   ],
   "metadata": {
    "collapsed": false
   }
  },
  {
   "cell_type": "code",
   "execution_count": 495,
   "outputs": [
    {
     "name": "stdout",
     "output_type": "stream",
     "text": [
      "1\n"
     ]
    }
   ],
   "source": [
    "val = 5.\n",
    "index = prim_graph.adj_mat[0].tolist().index(val)\n",
    "print(index)"
   ],
   "metadata": {
    "collapsed": false
   }
  },
  {
   "cell_type": "code",
   "execution_count": 430,
   "outputs": [
    {
     "name": "stdout",
     "output_type": "stream",
     "text": [
      "[0.0, 1.0, 0.0, 4.0]\n"
     ]
    }
   ],
   "source": [
    "heap_practice = [0.0, 1.0, 0.0, 4.0]\n",
    "hq.heapify(heap_practice)\n",
    "print(heap_practice)"
   ],
   "metadata": {
    "collapsed": false
   }
  },
  {
   "cell_type": "code",
   "execution_count": 431,
   "outputs": [],
   "source": [
    "heap_practice[heap_practice == 0] = np.inf"
   ],
   "metadata": {
    "collapsed": false
   }
  },
  {
   "cell_type": "code",
   "execution_count": 432,
   "outputs": [
    {
     "name": "stdout",
     "output_type": "stream",
     "text": [
      "[inf, 1.0, 0.0, 4.0]\n"
     ]
    }
   ],
   "source": [
    "print(heap_practice)"
   ],
   "metadata": {
    "collapsed": false
   }
  },
  {
   "cell_type": "code",
   "execution_count": 433,
   "outputs": [],
   "source": [
    "heap_practice = [i if i != 0 else np.inf for i in heap_practice]"
   ],
   "metadata": {
    "collapsed": false
   }
  },
  {
   "cell_type": "code",
   "execution_count": 434,
   "outputs": [
    {
     "name": "stdout",
     "output_type": "stream",
     "text": [
      "[inf, 1.0, inf, 4.0]\n"
     ]
    }
   ],
   "source": [
    "print(heap_practice)"
   ],
   "metadata": {
    "collapsed": false
   }
  },
  {
   "cell_type": "code",
   "execution_count": 435,
   "outputs": [
    {
     "name": "stdout",
     "output_type": "stream",
     "text": [
      "[4.0, inf, inf]\n"
     ]
    }
   ],
   "source": [
    "heap_practice.sort()\n",
    "hq.heappop(heap_practice)\n",
    "print(heap_practice)"
   ],
   "metadata": {
    "collapsed": false
   }
  },
  {
   "cell_type": "code",
   "execution_count": 463,
   "outputs": [
    {
     "data": {
      "text/plain": "array([[inf,  5., inf,  5.],\n       [ 5., inf,  1.,  2.],\n       [inf,  1., inf,  4.],\n       [ 5.,  2.,  4., inf]])"
     },
     "execution_count": 463,
     "metadata": {},
     "output_type": "execute_result"
    }
   ],
   "source": [
    "prim_graph.adj_mat"
   ],
   "metadata": {
    "collapsed": false
   }
  },
  {
   "cell_type": "code",
   "execution_count": 485,
   "outputs": [
    {
     "name": "stdout",
     "output_type": "stream",
     "text": [
      "0 inf\n",
      "1 5.0\n",
      "2 inf\n",
      "3 5.0\n"
     ]
    }
   ],
   "source": [
    "prim_graph_index_mat = np.ndenumerate(prim_graph.adj_mat)\n",
    "for i, j in enumerate(prim_graph.adj_mat):\n",
    "\n",
    "    print(i,j[0])"
   ],
   "metadata": {
    "collapsed": false
   }
  },
  {
   "cell_type": "code",
   "execution_count": 464,
   "outputs": [],
   "source": [
    "random_starting_index = np.random.randint(0, len(prim_graph.adj_mat))\n",
    "prim_graph.adj_mat[prim_graph.adj_mat == 0] = np.inf  # Replace all zeros with infinity\n",
    "heap = [_ for _ in prim_graph.adj_mat[random_starting_index]]  # Return edges for random node\n",
    "\n",
    "hq.heapify(heap)"
   ],
   "metadata": {
    "collapsed": false
   }
  },
  {
   "cell_type": "code",
   "execution_count": 465,
   "outputs": [
    {
     "name": "stdout",
     "output_type": "stream",
     "text": [
      "[inf, 1.0, inf, 4.0]\n"
     ]
    }
   ],
   "source": [
    "print(heap)"
   ],
   "metadata": {
    "collapsed": false
   }
  },
  {
   "cell_type": "code",
   "execution_count": 467,
   "outputs": [],
   "source": [
    "shortest_edge = hq.heappop(heap)"
   ],
   "metadata": {
    "collapsed": false
   }
  },
  {
   "cell_type": "code",
   "execution_count": 468,
   "outputs": [
    {
     "name": "stdout",
     "output_type": "stream",
     "text": [
      "1.0\n"
     ]
    }
   ],
   "source": [
    "print(shortest_edge)"
   ],
   "metadata": {
    "collapsed": false
   }
  },
  {
   "cell_type": "code",
   "execution_count": null,
   "outputs": [],
   "source": [
    "prim_graph.adj_mat[]"
   ],
   "metadata": {
    "collapsed": false
   }
  }
 ],
 "metadata": {
  "kernelspec": {
   "display_name": "Python 3",
   "language": "python",
   "name": "python3"
  },
  "language_info": {
   "codemirror_mode": {
    "name": "ipython",
    "version": 2
   },
   "file_extension": ".py",
   "mimetype": "text/x-python",
   "name": "python",
   "nbconvert_exporter": "python",
   "pygments_lexer": "ipython2",
   "version": "2.7.6"
  }
 },
 "nbformat": 4,
 "nbformat_minor": 0
}
