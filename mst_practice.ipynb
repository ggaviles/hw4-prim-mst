{
 "cells": [
  {
   "cell_type": "code",
   "execution_count": 508,
   "metadata": {
    "collapsed": true
   },
   "outputs": [],
   "source": [
    "import numpy as np\n",
    "import heapq as hq\n",
    "from typing import Union"
   ]
  },
  {
   "cell_type": "code",
   "execution_count": 509,
   "outputs": [],
   "source": [
    "class Graph:\n",
    "\n",
    "    def __init__(self, adjacency_mat: Union[np.ndarray, str]):\n",
    "        \"\"\"\n",
    "\n",
    "        Unlike the BFS assignment, this Graph class takes an adjacency matrix as input. `adjacency_mat`\n",
    "        can either be a 2D numpy array of floats or a path to a CSV file containing a 2D numpy array of floats.\n",
    "\n",
    "        In this project, we will assume `adjacency_mat` corresponds to the adjacency matrix of an undirected graph.\n",
    "\n",
    "        \"\"\"\n",
    "        if type(adjacency_mat) == str:\n",
    "            self.adj_mat = self._load_adjacency_matrix_from_csv(adjacency_mat)\n",
    "        elif type(adjacency_mat) == np.ndarray:\n",
    "            self.adj_mat = adjacency_mat\n",
    "        else:\n",
    "            raise TypeError('Input must be a valid path or an adjacency matrix')\n",
    "        self.mst = None\n",
    "\n",
    "    def _load_adjacency_matrix_from_csv(self, path: str) -> np.ndarray:\n",
    "        with open(path) as f:\n",
    "            return np.loadtxt(f, delimiter=',')"
   ],
   "metadata": {
    "collapsed": false
   }
  },
  {
   "cell_type": "code",
   "execution_count": 510,
   "outputs": [],
   "source": [
    "#prim = Graph('/Users/giovanniaviles/Documents/Winter_2023/BMI_203/hw4-prim-mst/data/small.csv')"
   ],
   "metadata": {
    "collapsed": false
   }
  },
  {
   "cell_type": "code",
   "execution_count": 511,
   "outputs": [
    {
     "name": "stdout",
     "output_type": "stream",
     "text": [
      "[[0. 5. 0. 5.]\n",
      " [5. 0. 1. 2.]\n",
      " [0. 1. 0. 4.]\n",
      " [5. 2. 4. 0.]]\n"
     ]
    }
   ],
   "source": [
    "prim = np.loadtxt('/Users/giovanniaviles/Documents/Winter_2023/BMI_203/hw4-prim-mst/data/small.csv', delimiter=',')\n",
    "print(prim)"
   ],
   "metadata": {
    "collapsed": false
   }
  },
  {
   "cell_type": "code",
   "execution_count": 512,
   "outputs": [
    {
     "ename": "IndexError",
     "evalue": "only integers, slices (`:`), ellipsis (`...`), numpy.newaxis (`None`) and integer or boolean arrays are valid indices",
     "output_type": "error",
     "traceback": [
      "\u001B[0;31m---------------------------------------------------------------------------\u001B[0m",
      "\u001B[0;31mIndexError\u001B[0m                                Traceback (most recent call last)",
      "Cell \u001B[0;32mIn[512], line 4\u001B[0m\n\u001B[1;32m      2\u001B[0m j \u001B[38;5;241m=\u001B[39m np\u001B[38;5;241m.\u001B[39mwhere(prim[\u001B[38;5;241m0\u001B[39m] \u001B[38;5;241m==\u001B[39m np\u001B[38;5;241m.\u001B[39mmin(prim[\u001B[38;5;241m0\u001B[39m]))\n\u001B[1;32m      3\u001B[0m m \u001B[38;5;241m=\u001B[39m \u001B[38;5;28mmin\u001B[39m(i \u001B[38;5;28;01mfor\u001B[39;00m i \u001B[38;5;129;01min\u001B[39;00m prim[\u001B[38;5;241m0\u001B[39m] \u001B[38;5;28;01mif\u001B[39;00m i \u001B[38;5;241m>\u001B[39m \u001B[38;5;241m0\u001B[39m)\n\u001B[0;32m----> 4\u001B[0m \u001B[43mprim\u001B[49m\u001B[43m[\u001B[49m\u001B[38;5;241;43m0\u001B[39;49m\u001B[43m]\u001B[49m\u001B[43m[\u001B[49m\u001B[43mm\u001B[49m\u001B[43m]\u001B[49m\n\u001B[1;32m      5\u001B[0m \u001B[38;5;28mprint\u001B[39m(m)\n",
      "\u001B[0;31mIndexError\u001B[0m: only integers, slices (`:`), ellipsis (`...`), numpy.newaxis (`None`) and integer or boolean arrays are valid indices"
     ]
    }
   ],
   "source": [
    "i = np.where(prim[1]==np.min(prim[1][np.nonzero(prim[1])]))\n",
    "j = np.where(prim[0] == np.min(prim[0]))\n",
    "m = min(i for i in prim[0] if i > 0)\n",
    "prim[0][m]\n",
    "print(m)"
   ],
   "metadata": {
    "collapsed": false
   }
  },
  {
   "cell_type": "code",
   "execution_count": null,
   "outputs": [],
   "source": [
    "minimum_edge_values_in_array = np.where(prim>0, prim, np.inf).min(axis=1)\n",
    "print(minimum_edge_values_in_array)  # Not helpful because edge selection dependent on current node"
   ],
   "metadata": {
    "collapsed": false
   }
  },
  {
   "cell_type": "code",
   "execution_count": null,
   "outputs": [],
   "source": [
    "nonzero_indices = np.nonzero(prim[1])\n",
    "nonzero_indices = np.array(m).flatten()\n"
   ],
   "metadata": {
    "collapsed": false
   }
  },
  {
   "cell_type": "code",
   "execution_count": null,
   "outputs": [],
   "source": [
    "nonzero_indices_two = [i for i, x in enumerate(prim[1]) if x > 0]\n",
    "print(nonzero_indices_two)"
   ],
   "metadata": {
    "collapsed": false
   }
  },
  {
   "cell_type": "code",
   "execution_count": null,
   "outputs": [],
   "source": [
    "m = min([x for x in prim[1] if x > 0])\n",
    "min_index, = np.where(prim[1] == m)\n",
    "print(min_index)"
   ],
   "metadata": {
    "collapsed": false
   }
  },
  {
   "cell_type": "code",
   "execution_count": null,
   "outputs": [],
   "source": [
    "heap = []\n",
    "hq.heapify(heap)\n",
    "item = [20, 4, 8, 10, 5, 7, 6, 2, 9]\n",
    "for i in item:\n",
    "    hq.heappush(heap, i)\n",
    "heap.sort()"
   ],
   "metadata": {
    "collapsed": false
   }
  },
  {
   "cell_type": "code",
   "execution_count": null,
   "outputs": [],
   "source": [
    "np.ndenumerate(prim_read_in)"
   ],
   "metadata": {
    "collapsed": false
   }
  },
  {
   "cell_type": "code",
   "execution_count": null,
   "outputs": [],
   "source": [
    "vertices = []\n",
    "for i in prim_read_in.tolist():\n",
    "    hq.heappush(vertices, i)\n",
    "print(vertices)\n",
    "hq.nsmallest(1, vertices)\n",
    "#for i, j in enumerate(prim_read_in.tolist()):\n",
    "#    hq.heappush(vertices, j)  # Make heap of vertices\n",
    "#print(vertices)"
   ],
   "metadata": {
    "collapsed": false
   }
  },
  {
   "cell_type": "code",
   "execution_count": null,
   "outputs": [],
   "source": [
    "start = prim_read_in[0][0]\n",
    "prim.mst.add(start)\n",
    "for a in prim_read_in[start]:\n",
    "    hq.heappush(vertices, a)\n",
    "while prim.mst:\n",
    "    weight, next_node = hq.heappop()\n",
    "for i, j in enumerate(prim_read_in.tolist()):\n",
    "    hq.heappush(vertices, i)\n",
    "\n",
    "print(vertices)"
   ],
   "metadata": {
    "collapsed": false
   }
  },
  {
   "cell_type": "code",
   "execution_count": null,
   "outputs": [],
   "source": [
    "prim.mst = []  # Initialize mst as a priority queue\n",
    "hq.heapify(prim.mst)\n",
    "\n",
    "outgoing_edges = []  # Initialize outgoing_edges as a priority queue\n",
    "hq.heapify(outgoing_edges)"
   ],
   "metadata": {
    "collapsed": false
   }
  },
  {
   "cell_type": "code",
   "execution_count": null,
   "outputs": [],
   "source": [
    "visited = set()  # Initialize a set to keep track of visited nodes\n",
    "weights = []\n",
    "for i, j in enumerate(prim_read_in.tolist()):\n",
    "\n",
    "    visited.add(i)  # Add vertex to visited\n",
    "\n",
    "\n",
    "\n",
    "for i, j in enumerate(prim_read_in.tolist()):\n",
    "    visited.add(i)  # Add vertex to visited\n",
    "    for edges in prim_read_in.tolist()[i]:  # Access adjacency matrix values\n",
    "        hq.heappush(outgoing_edges, edges)  # Push all edge weights from one node to heap\n",
    "        outgoing_edges.sort()  # Sort edges by weight\n",
    "        weights.add(hq.heappop(outgoing_edges))  # Add smallest weight of neighboring edges\n",
    "\n",
    "\n",
    "    hq.heappush(prim.mst, prim_read_in[i])  # Add\n",
    "    weights.add(hq.heappop(outgoing_edges))  # Add smallest weight of neighboring edges\n",
    "\n",
    "# Need a while group to add nodes to visited\n",
    "\n",
    "outgoing_edges = []  # Initialize outgoing_edges as a priority queue\n",
    "hq.heapify(outgoing_edges)"
   ],
   "metadata": {
    "collapsed": false
   }
  },
  {
   "cell_type": "code",
   "execution_count": null,
   "outputs": [],
   "source": [],
   "metadata": {
    "collapsed": false
   }
  },
  {
   "cell_type": "code",
   "execution_count": null,
   "outputs": [],
   "source": [
    "# Add initial vertex\n",
    "visited"
   ],
   "metadata": {
    "collapsed": false
   }
  },
  {
   "cell_type": "code",
   "execution_count": null,
   "outputs": [],
   "source": [
    "while v not in visited:\n",
    "    # Pop lowest weight edge from priority queue\n",
    "    hq.heappop(outgoing_edges)\n",
    "\n",
    "    if next_v not in visited:\n",
    "        hq.heappush(self.mst, next_v)  # Add edge to mst\n",
    "        visited.add(next_v)"
   ],
   "metadata": {
    "collapsed": false
   }
  },
  {
   "cell_type": "code",
   "execution_count": null,
   "outputs": [],
   "source": [
    "total = 0                   # Total cost of edges in tree\n",
    "explored = set()            # Set of vertices in tree\n",
    "start = next(iter(graph))   # Arbitrary starting vertex\n",
    "unexplored = [(0, start)]   # Unexplored edges ordered by cost\n",
    "while unexplored:\n",
    "    cost, winner = heappop(unexplored)\n",
    "    if winner not in explored:\n",
    "        explored.add(winner)\n",
    "        total += cost\n",
    "        for neighbour, cost in graph[winner]:\n",
    "            if neighbour not in explored:\n",
    "                heappush(unexplored, (cost, neighbour))\n",
    "return total"
   ],
   "metadata": {
    "collapsed": false
   }
  },
  {
   "cell_type": "code",
   "execution_count": null,
   "outputs": [],
   "source": [
    "from mst import Graph"
   ],
   "metadata": {
    "collapsed": false
   }
  },
  {
   "cell_type": "code",
   "execution_count": null,
   "outputs": [],
   "source": [
    "prim_graph = Graph('./data/small.csv')\n"
   ],
   "metadata": {
    "collapsed": false
   }
  },
  {
   "cell_type": "code",
   "execution_count": null,
   "outputs": [],
   "source": [
    "print(prim_graph)"
   ],
   "metadata": {
    "collapsed": false
   }
  },
  {
   "cell_type": "code",
   "execution_count": null,
   "outputs": [],
   "source": [
    "len(prim_graph.adj_mat)"
   ],
   "metadata": {
    "collapsed": false
   }
  },
  {
   "cell_type": "code",
   "execution_count": null,
   "outputs": [],
   "source": [
    "prim_graph.adj_mat[0]"
   ],
   "metadata": {
    "collapsed": false
   }
  },
  {
   "cell_type": "code",
   "execution_count": null,
   "outputs": [],
   "source": [
    "visited = set()\n",
    "\n",
    "for i, j in enumerate(prim_graph.adj_mat):\n",
    "    visited.add(i)\n",
    "    print(j)\n",
    "    heap = [_ for _ in j]\n",
    "print(heap)"
   ],
   "metadata": {
    "collapsed": false
   }
  },
  {
   "cell_type": "code",
   "execution_count": null,
   "outputs": [],
   "source": [
    "heap = [_ for _ in prim_graph.adj_mat[random_starting_index]]"
   ],
   "metadata": {
    "collapsed": false
   }
  },
  {
   "cell_type": "code",
   "execution_count": null,
   "outputs": [],
   "source": [
    "# Generate a random starting index in order to randomly choose a node from which to build the mst\n",
    "random_starting_index = np.random.randint(0, len(prim_graph.adj_mat))\n",
    "\n",
    "visited = set()  # Initialize set of visited nodes\n",
    "visited.add(random_starting_index)  # Add starting nodes\n",
    "\n",
    "# Starting node's smallest edge\n",
    "next_edge = min([x for x in prim_graph.adj_mat[random_starting_index] if x > 0])\n",
    "\n",
    "# Add edge to mst\n",
    "#self.mst.append(next_edge)\n",
    "\n",
    "# Next node in mst (finds index for which distance is least)\n",
    "next_node, = np.where(prim_graph.adj_mat[random_starting_index] == next_edge)\n",
    "print(next_node) '''NEED TO CONTROL FOR SAME VALUES'''\n",
    "# Add node to visited set\n",
    "visited.add(next_node)"
   ],
   "metadata": {
    "collapsed": false
   }
  },
  {
   "cell_type": "code",
   "execution_count": null,
   "outputs": [],
   "source": [
    "random_starting_index = np.random.randint(0, len(prim_graph.adj_mat))\n",
    "heap = [_ for _ in prim_graph.adj_mat[random_starting_index]]\n",
    "heap = hq.heappush(heap)\n",
    "print(heap)"
   ],
   "metadata": {
    "collapsed": false
   }
  },
  {
   "cell_type": "code",
   "execution_count": null,
   "outputs": [],
   "source": [
    "heap = [i if i != 0 else np.inf for i in heap]  # Replace all zeros with infinity values\n",
    "heap.sort()\n",
    "print(heap)"
   ],
   "metadata": {
    "collapsed": false
   }
  },
  {
   "cell_type": "code",
   "execution_count": null,
   "outputs": [],
   "source": [
    "hq.heappop(heap)\n",
    "print(heap)"
   ],
   "metadata": {
    "collapsed": false
   }
  },
  {
   "cell_type": "markdown",
   "source": [],
   "metadata": {
    "collapsed": false
   }
  },
  {
   "cell_type": "code",
   "execution_count": null,
   "outputs": [],
   "source": [
    "prim_graph.adj_mat[prim_graph.adj_mat == 0] = np.inf\n",
    "print(prim_graph.adj_mat)"
   ],
   "metadata": {
    "collapsed": false
   }
  },
  {
   "cell_type": "code",
   "execution_count": null,
   "outputs": [],
   "source": [
    "heap = [_ for _ in prim_graph.adj_mat[random_starting_index]]\n",
    "hq.heapify(heap)"
   ],
   "metadata": {
    "collapsed": false
   }
  },
  {
   "cell_type": "code",
   "execution_count": null,
   "outputs": [],
   "source": [
    "print(heap)"
   ],
   "metadata": {
    "collapsed": false
   }
  },
  {
   "cell_type": "code",
   "execution_count": null,
   "outputs": [],
   "source": [
    "hq.heappop(heap)\n",
    "print(heap)"
   ],
   "metadata": {
    "collapsed": false
   }
  },
  {
   "cell_type": "code",
   "execution_count": null,
   "outputs": [],
   "source": [
    "prim_mst = []\n",
    "visited = set()\n",
    "\n",
    "random_starting_node = np.random.randint(0, len(prim_graph.adj_mat))\n",
    "prim_graph.adj_mat[prim_graph.adj_mat == 0] = np.inf  # Replace all zeros with infinity\n",
    "heap = [_ for _ in prim_graph.adj_mat[random_starting_node]]  # Return edges for random node\n",
    "hq.heapify(heap)  # Heapify heap\n",
    "\n",
    "visited.add(random_starting_node)  # Add first node to visited\n",
    "\n",
    "curr_node = random_starting_node\n",
    "\n",
    "while heap and len(visited) != len(prim_graph.adj_mat):\n",
    "    shortest_edge = hq.heappop(heap)  # Pop shortest_edge\n",
    "    curr_node = prim_graph.adj_mat[curr_node].tolist().index(shortest_edge)  # Assign index to next node\n",
    "    if curr_node not in visited:  # Check if neighboring node is already in visited\n",
    "        visited.add(curr_node)\n",
    "        prim_mst.append(shortest_edge)  # Add edge to mst\n",
    "        neighbor_edges = [_ for _ in prim_graph.adj_mat[curr_node]]\n",
    "        hq.heappush(heap, neighbor_edges)"
   ],
   "metadata": {
    "collapsed": false
   }
  },
  {
   "cell_type": "code",
   "execution_count": null,
   "outputs": [],
   "source": [
    "prim_graph.adj_mat[0]"
   ],
   "metadata": {
    "collapsed": false
   }
  },
  {
   "cell_type": "code",
   "execution_count": null,
   "outputs": [],
   "source": [
    "val = 5.\n",
    "index = prim_graph.adj_mat[0].tolist().index(val)\n",
    "print(index)"
   ],
   "metadata": {
    "collapsed": false
   }
  },
  {
   "cell_type": "code",
   "execution_count": null,
   "outputs": [],
   "source": [
    "heap_practice = [0.0, 1.0, 0.0, 4.0]\n",
    "hq.heapify(heap_practice)\n",
    "print(heap_practice)"
   ],
   "metadata": {
    "collapsed": false
   }
  },
  {
   "cell_type": "code",
   "execution_count": null,
   "outputs": [],
   "source": [
    "heap_practice[heap_practice == 0] = np.inf"
   ],
   "metadata": {
    "collapsed": false
   }
  },
  {
   "cell_type": "code",
   "execution_count": null,
   "outputs": [],
   "source": [
    "print(heap_practice)"
   ],
   "metadata": {
    "collapsed": false
   }
  },
  {
   "cell_type": "code",
   "execution_count": null,
   "outputs": [],
   "source": [
    "heap_practice = [i if i != 0 else np.inf for i in heap_practice]"
   ],
   "metadata": {
    "collapsed": false
   }
  },
  {
   "cell_type": "code",
   "execution_count": null,
   "outputs": [],
   "source": [
    "print(heap_practice)"
   ],
   "metadata": {
    "collapsed": false
   }
  },
  {
   "cell_type": "code",
   "execution_count": null,
   "outputs": [],
   "source": [
    "heap_practice.sort()\n",
    "hq.heappop(heap_practice)\n",
    "print(heap_practice)"
   ],
   "metadata": {
    "collapsed": false
   }
  },
  {
   "cell_type": "code",
   "execution_count": null,
   "outputs": [],
   "source": [
    "prim_graph.adj_mat"
   ],
   "metadata": {
    "collapsed": false
   }
  },
  {
   "cell_type": "code",
   "execution_count": null,
   "outputs": [],
   "source": [
    "prim_graph_index_mat = np.ndenumerate(prim_graph.adj_mat)\n",
    "for i, j in enumerate(prim_graph.adj_mat):\n",
    "\n",
    "    print(i,j[0])"
   ],
   "metadata": {
    "collapsed": false
   }
  },
  {
   "cell_type": "code",
   "execution_count": null,
   "outputs": [],
   "source": [
    "random_starting_index = np.random.randint(0, len(prim_graph.adj_mat))\n",
    "prim_graph.adj_mat[prim_graph.adj_mat == 0] = np.inf  # Replace all zeros with infinity\n",
    "heap = [_ for _ in prim_graph.adj_mat[random_starting_index]]  # Return edges for random node\n",
    "\n",
    "hq.heapify(heap)"
   ],
   "metadata": {
    "collapsed": false
   }
  },
  {
   "cell_type": "code",
   "execution_count": null,
   "outputs": [],
   "source": [
    "print(heap)"
   ],
   "metadata": {
    "collapsed": false
   }
  },
  {
   "cell_type": "code",
   "execution_count": null,
   "outputs": [],
   "source": [
    "shortest_edge = hq.heappop(heap)"
   ],
   "metadata": {
    "collapsed": false
   }
  },
  {
   "cell_type": "code",
   "execution_count": null,
   "outputs": [],
   "source": [
    "print(shortest_edge)"
   ],
   "metadata": {
    "collapsed": false
   }
  },
  {
   "cell_type": "code",
   "execution_count": null,
   "outputs": [],
   "source": [],
   "metadata": {
    "collapsed": false
   }
  },
  {
   "cell_type": "code",
   "execution_count": 517,
   "outputs": [],
   "source": [
    "def check_mst(adj_mat: np.ndarray,\n",
    "              mst: np.ndarray,\n",
    "              expected_weight: int,\n",
    "              allowed_error: float = 0.0001):\n",
    "    \"\"\"\n",
    "\n",
    "    Helper function to check the correctness of the adjacency matrix encoding an MST.\n",
    "    Note that because the MST of a graph is not guaranteed to be unique, we cannot\n",
    "    simply check for equality against a known MST of a graph.\n",
    "\n",
    "    Arguments:\n",
    "        adj_mat: adjacency matrix of full graph\n",
    "        mst: adjacency matrix of proposed minimum spanning tree\n",
    "        expected_weight: weight of the minimum spanning tree of the full graph\n",
    "        allowed_error: allowed difference between proposed MST weight and `expected_weight`\n",
    "\n",
    "    TODO: Add additional assertions to ensure the correctness of your MST implementation. For\n",
    "    example, how many edges should a minimum spanning tree have? Are minimum spanning trees\n",
    "    always connected? What else can you think of?\n",
    "\n",
    "    \"\"\"\n",
    "\n",
    "    def approx_equal(a, b):\n",
    "        return abs(a - b) < allowed_error\n",
    "\n",
    "    total = 0\n",
    "    for i in range(mst.shape[0]):\n",
    "        for j in range(i+1):\n",
    "            total += mst[i, j]\n",
    "    assert approx_equal(total, expected_weight), 'Proposed MST has incorrect expected weight'\n",
    "\n",
    "\n",
    "def test_mst_small():\n",
    "    \"\"\"\n",
    "\n",
    "    Unit test for the construction of a minimum spanning tree on a small graph.\n",
    "\n",
    "    \"\"\"\n",
    "    file_path = './data/small.csv'\n",
    "    g = Graph(file_path)\n",
    "    g.construct_mst()\n",
    "    check_mst(g.adj_mat, g.mst, 8)\n",
    "\n",
    "\n",
    "def test_mst_single_cell_data():\n",
    "    \"\"\"\n",
    "\n",
    "    Unit test for the construction of a minimum spanning tree using single cell\n",
    "    data, taken from the Slingshot R package.\n",
    "\n",
    "    https://bioconductor.org/packages/release/bioc/html/slingshot.html\n",
    "\n",
    "    \"\"\"\n",
    "    file_path = '../data/slingshot_example.txt'\n",
    "    coords = np.loadtxt(file_path) # load coordinates of single cells in low-dimensional subspace\n",
    "    dist_mat = pairwise_distances(coords) # compute pairwise distances to form graph\n",
    "    g = Graph(dist_mat)\n",
    "    g.construct_mst()\n",
    "    check_mst(g.adj_mat, g.mst, 57.263561605571695)"
   ],
   "metadata": {
    "collapsed": false
   }
  },
  {
   "cell_type": "code",
   "execution_count": 518,
   "outputs": [],
   "source": [
    "prim_graph = Graph('./data/small.csv')"
   ],
   "metadata": {
    "collapsed": false
   }
  },
  {
   "cell_type": "code",
   "execution_count": 520,
   "outputs": [
    {
     "data": {
      "text/plain": "array([[0., 5., 0., 5.],\n       [5., 0., 1., 2.],\n       [0., 1., 0., 4.],\n       [5., 2., 4., 0.]])"
     },
     "execution_count": 520,
     "metadata": {},
     "output_type": "execute_result"
    }
   ],
   "source": [
    "prim_graph.adj_mat"
   ],
   "metadata": {
    "collapsed": false
   }
  },
  {
   "cell_type": "code",
   "execution_count": 522,
   "outputs": [],
   "source": [
    "from mst import Graph"
   ],
   "metadata": {
    "collapsed": false
   }
  },
  {
   "cell_type": "code",
   "execution_count": 523,
   "outputs": [],
   "source": [
    "prim_graph = Graph('./data/small.csv')\n"
   ],
   "metadata": {
    "collapsed": false
   }
  },
  {
   "cell_type": "code",
   "execution_count": 535,
   "outputs": [],
   "source": [
    "prim_graph.construct_mst()"
   ],
   "metadata": {
    "collapsed": false
   }
  },
  {
   "cell_type": "code",
   "execution_count": 536,
   "outputs": [],
   "source": [
    "prim_graph.mst"
   ],
   "metadata": {
    "collapsed": false
   }
  },
  {
   "cell_type": "code",
   "execution_count": 537,
   "outputs": [
    {
     "name": "stdout",
     "output_type": "stream",
     "text": [
      "None\n"
     ]
    }
   ],
   "source": [
    "print(prim_graph.mst)"
   ],
   "metadata": {
    "collapsed": false
   }
  },
  {
   "cell_type": "code",
   "execution_count": 527,
   "outputs": [
    {
     "data": {
      "text/plain": "2"
     },
     "execution_count": 527,
     "metadata": {},
     "output_type": "execute_result"
    }
   ],
   "source": [
    "prim_graph.adj_mat.ndim"
   ],
   "metadata": {
    "collapsed": false
   }
  },
  {
   "cell_type": "code",
   "execution_count": 530,
   "outputs": [
    {
     "name": "stdout",
     "output_type": "stream",
     "text": [
      "None\n"
     ]
    }
   ],
   "source": [
    "print(prim_graph.mst)"
   ],
   "metadata": {
    "collapsed": false
   }
  },
  {
   "cell_type": "code",
   "execution_count": 538,
   "outputs": [
    {
     "data": {
      "text/plain": "4"
     },
     "execution_count": 538,
     "metadata": {},
     "output_type": "execute_result"
    }
   ],
   "source": [
    "len(prim_graph.adj_mat)"
   ],
   "metadata": {
    "collapsed": false
   }
  },
  {
   "cell_type": "code",
   "execution_count": 539,
   "outputs": [],
   "source": [
    "prim_graph.construct_mst()"
   ],
   "metadata": {
    "collapsed": false
   }
  },
  {
   "cell_type": "code",
   "execution_count": 540,
   "outputs": [
    {
     "name": "stdout",
     "output_type": "stream",
     "text": [
      "None\n"
     ]
    }
   ],
   "source": [
    "print(prim_graph.mst)"
   ],
   "metadata": {
    "collapsed": false
   }
  },
  {
   "cell_type": "code",
   "execution_count": 543,
   "outputs": [],
   "source": [
    "total = 0\n",
    "mst = ([0, 5, 0, 0], [5, 0, 1, 2], [0, 1, 0, 0], [0, 2, 0, 0])\n",
    "mst = np.array(mst)\n",
    "for i in range(len(mst)):\n",
    "   for j in range(i+1):\n",
    "      total += mst[i, j]"
   ],
   "metadata": {
    "collapsed": false
   }
  },
  {
   "cell_type": "code",
   "execution_count": 544,
   "outputs": [
    {
     "name": "stdout",
     "output_type": "stream",
     "text": [
      "8\n"
     ]
    }
   ],
   "source": [
    "print(total)"
   ],
   "metadata": {
    "collapsed": false
   }
  },
  {
   "cell_type": "code",
   "execution_count": 549,
   "outputs": [
    {
     "data": {
      "text/plain": "4"
     },
     "execution_count": 549,
     "metadata": {},
     "output_type": "execute_result"
    }
   ],
   "source": [
    "\n",
    "mst_zeros = np.zeros((4,4))\n",
    "len(mst_zeros)"
   ],
   "metadata": {
    "collapsed": false
   }
  },
  {
   "cell_type": "code",
   "execution_count": 550,
   "outputs": [],
   "source": [
    "mst_zeros_two = np.zeros((len(mst_zeros), len(mst_zeros)))"
   ],
   "metadata": {
    "collapsed": false
   }
  },
  {
   "cell_type": "code",
   "execution_count": 551,
   "outputs": [
    {
     "name": "stdout",
     "output_type": "stream",
     "text": [
      "[[0. 0. 0. 0.]\n",
      " [0. 0. 0. 0.]\n",
      " [0. 0. 0. 0.]\n",
      " [0. 0. 0. 0.]]\n"
     ]
    }
   ],
   "source": [
    "print(mst_zeros)"
   ],
   "metadata": {
    "collapsed": false
   }
  },
  {
   "cell_type": "code",
   "execution_count": null,
   "outputs": [],
   "source": [],
   "metadata": {
    "collapsed": false
   }
  }
 ],
 "metadata": {
  "kernelspec": {
   "display_name": "Python 3",
   "language": "python",
   "name": "python3"
  },
  "language_info": {
   "codemirror_mode": {
    "name": "ipython",
    "version": 2
   },
   "file_extension": ".py",
   "mimetype": "text/x-python",
   "name": "python",
   "nbconvert_exporter": "python",
   "pygments_lexer": "ipython2",
   "version": "2.7.6"
  }
 },
 "nbformat": 4,
 "nbformat_minor": 0
}
