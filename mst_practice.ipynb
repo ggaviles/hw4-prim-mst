{
 "cells": [
  {
   "cell_type": "code",
   "execution_count": null,
   "metadata": {
    "collapsed": true
   },
   "outputs": [],
   "source": [
    "import numpy as np\n",
    "import heapq as hq\n",
    "from typing import Union"
   ]
  },
  {
   "cell_type": "code",
   "execution_count": null,
   "outputs": [],
   "source": [
    "class Graph:\n",
    "\n",
    "    def __init__(self, adjacency_mat: Union[np.ndarray, str]):\n",
    "        \"\"\"\n",
    "\n",
    "        Unlike the BFS assignment, this Graph class takes an adjacency matrix as input. `adjacency_mat`\n",
    "        can either be a 2D numpy array of floats or a path to a CSV file containing a 2D numpy array of floats.\n",
    "\n",
    "        In this project, we will assume `adjacency_mat` corresponds to the adjacency matrix of an undirected graph.\n",
    "\n",
    "        \"\"\"\n",
    "        if type(adjacency_mat) == str:\n",
    "            self.adj_mat = self._load_adjacency_matrix_from_csv(adjacency_mat)\n",
    "        elif type(adjacency_mat) == np.ndarray:\n",
    "            self.adj_mat = adjacency_mat\n",
    "        else:\n",
    "            raise TypeError('Input must be a valid path or an adjacency matrix')\n",
    "        self.mst = None\n",
    "\n",
    "    def _load_adjacency_matrix_from_csv(self, path: str) -> np.ndarray:\n",
    "        with open(path) as f:\n",
    "            return np.loadtxt(f, delimiter=',')"
   ],
   "metadata": {
    "collapsed": false
   }
  },
  {
   "cell_type": "code",
   "execution_count": null,
   "outputs": [],
   "source": [
    "#prim = Graph('/Users/giovanniaviles/Documents/Winter_2023/BMI_203/hw4-prim-mst/data/small.csv')"
   ],
   "metadata": {
    "collapsed": false
   }
  },
  {
   "cell_type": "code",
   "execution_count": 148,
   "outputs": [
    {
     "name": "stdout",
     "output_type": "stream",
     "text": [
      "[[0. 5. 0. 5.]\n",
      " [5. 0. 1. 2.]\n",
      " [0. 1. 0. 4.]\n",
      " [5. 2. 4. 0.]]\n"
     ]
    }
   ],
   "source": [
    "prim = np.loadtxt('/Users/giovanniaviles/Documents/Winter_2023/BMI_203/hw4-prim-mst/data/small.csv', delimiter=',')\n",
    "print(prim)"
   ],
   "metadata": {
    "collapsed": false
   }
  },
  {
   "cell_type": "code",
   "execution_count": 165,
   "outputs": [
    {
     "ename": "IndexError",
     "evalue": "only integers, slices (`:`), ellipsis (`...`), numpy.newaxis (`None`) and integer or boolean arrays are valid indices",
     "output_type": "error",
     "traceback": [
      "\u001B[0;31m---------------------------------------------------------------------------\u001B[0m",
      "\u001B[0;31mIndexError\u001B[0m                                Traceback (most recent call last)",
      "Cell \u001B[0;32mIn[165], line 4\u001B[0m\n\u001B[1;32m      2\u001B[0m j \u001B[38;5;241m=\u001B[39m np\u001B[38;5;241m.\u001B[39mwhere(prim[\u001B[38;5;241m0\u001B[39m] \u001B[38;5;241m==\u001B[39m np\u001B[38;5;241m.\u001B[39mmin(prim[\u001B[38;5;241m0\u001B[39m]))\n\u001B[1;32m      3\u001B[0m m \u001B[38;5;241m=\u001B[39m \u001B[38;5;28mmin\u001B[39m(i \u001B[38;5;28;01mfor\u001B[39;00m i \u001B[38;5;129;01min\u001B[39;00m prim[\u001B[38;5;241m0\u001B[39m] \u001B[38;5;28;01mif\u001B[39;00m i \u001B[38;5;241m>\u001B[39m \u001B[38;5;241m0\u001B[39m)\n\u001B[0;32m----> 4\u001B[0m \u001B[43mprim\u001B[49m\u001B[43m[\u001B[49m\u001B[38;5;241;43m0\u001B[39;49m\u001B[43m]\u001B[49m\u001B[43m[\u001B[49m\u001B[43mm\u001B[49m\u001B[43m]\u001B[49m\n\u001B[1;32m      5\u001B[0m \u001B[38;5;28mprint\u001B[39m(m)\n",
      "\u001B[0;31mIndexError\u001B[0m: only integers, slices (`:`), ellipsis (`...`), numpy.newaxis (`None`) and integer or boolean arrays are valid indices"
     ]
    }
   ],
   "source": [
    "i = np.where(prim[1]==np.min(prim[1][np.nonzero(prim[1])]))\n",
    "j = np.where(prim[0] == np.min(prim[0]))\n",
    "m = min(i for i in prim[0] if i > 0)\n",
    "prim[0][m]\n",
    "print(m)"
   ],
   "metadata": {
    "collapsed": false
   }
  },
  {
   "cell_type": "code",
   "execution_count": 197,
   "outputs": [
    {
     "name": "stdout",
     "output_type": "stream",
     "text": [
      "[5. 1. 1. 2.]\n"
     ]
    }
   ],
   "source": [
    "minimum_edge_values_in_array = np.where(prim>0, prim, np.inf).min(axis=1)\n",
    "print(minimum_edge_values_in_array)  # Not helpful because edge selection dependent on current node"
   ],
   "metadata": {
    "collapsed": false
   }
  },
  {
   "cell_type": "code",
   "execution_count": 261,
   "outputs": [
    {
     "name": "stdout",
     "output_type": "stream",
     "text": [
      "[0 2 3]\n"
     ]
    }
   ],
   "source": [
    "nonzero_indices = np.nonzero(prim[1])\n",
    "nonzero_indices = np.array(m).flatten()\n"
   ],
   "metadata": {
    "collapsed": false
   }
  },
  {
   "cell_type": "code",
   "execution_count": 271,
   "outputs": [
    {
     "name": "stdout",
     "output_type": "stream",
     "text": [
      "[0, 2, 3]\n"
     ]
    }
   ],
   "source": [
    "nonzero_indices_two = [i for i, x in enumerate(prim[1]) if x > 0]\n",
    "print(nonzero_indices_two)"
   ],
   "metadata": {
    "collapsed": false
   }
  },
  {
   "cell_type": "code",
   "execution_count": 280,
   "outputs": [
    {
     "name": "stdout",
     "output_type": "stream",
     "text": [
      "[2]\n"
     ]
    }
   ],
   "source": [
    "m = min([x for x in prim[1] if x > 0])\n",
    "min_index, = np.where(prim[1] == m)\n",
    "print(min_index)"
   ],
   "metadata": {
    "collapsed": false
   }
  },
  {
   "cell_type": "code",
   "execution_count": null,
   "outputs": [],
   "source": [
    "heap = []\n",
    "hq.heapify(heap)\n",
    "item = [20, 4, 8, 10, 5, 7, 6, 2, 9]\n",
    "for i in item:\n",
    "    hq.heappush(heap, i)\n",
    "heap.sort()"
   ],
   "metadata": {
    "collapsed": false
   }
  },
  {
   "cell_type": "code",
   "execution_count": 110,
   "outputs": [
    {
     "ename": "TypeError",
     "evalue": "'ndenumerate' object is not subscriptable",
     "output_type": "error",
     "traceback": [
      "\u001B[0;31m---------------------------------------------------------------------------\u001B[0m",
      "\u001B[0;31mTypeError\u001B[0m                                 Traceback (most recent call last)",
      "Cell \u001B[0;32mIn[110], line 1\u001B[0m\n\u001B[0;32m----> 1\u001B[0m \u001B[43mnp\u001B[49m\u001B[38;5;241;43m.\u001B[39;49m\u001B[43mndenumerate\u001B[49m\u001B[43m(\u001B[49m\u001B[43mprim_read_in\u001B[49m\u001B[43m)\u001B[49m\u001B[43m[\u001B[49m\u001B[38;5;241;43m0\u001B[39;49m\u001B[43m]\u001B[49m\n",
      "\u001B[0;31mTypeError\u001B[0m: 'ndenumerate' object is not subscriptable"
     ]
    }
   ],
   "source": [
    "np.ndenumerate(prim_read_in)"
   ],
   "metadata": {
    "collapsed": false
   }
  },
  {
   "cell_type": "code",
   "execution_count": 136,
   "outputs": [
    {
     "name": "stdout",
     "output_type": "stream",
     "text": [
      "[[0.0, 1.0, 0.0, 4.0], [5.0, 0.0, 1.0, 2.0], [0.0, 5.0, 0.0, 5.0], [5.0, 2.0, 4.0, 0.0]]\n"
     ]
    },
    {
     "data": {
      "text/plain": "[[0.0, 1.0, 0.0, 4.0]]"
     },
     "execution_count": 136,
     "metadata": {},
     "output_type": "execute_result"
    }
   ],
   "source": [
    "vertices = []\n",
    "for i in prim_read_in.tolist():\n",
    "    hq.heappush(vertices, i)\n",
    "print(vertices)\n",
    "hq.nsmallest(1, vertices)\n",
    "#for i, j in enumerate(prim_read_in.tolist()):\n",
    "#    hq.heappush(vertices, j)  # Make heap of vertices\n",
    "#print(vertices)"
   ],
   "metadata": {
    "collapsed": false
   }
  },
  {
   "cell_type": "code",
   "execution_count": 98,
   "outputs": [
    {
     "name": "stdout",
     "output_type": "stream",
     "text": [
      "[0, 1, 2, 3]\n"
     ]
    }
   ],
   "source": [
    "start = prim_read_in[0][0]\n",
    "prim.mst.add(start)\n",
    "for a in prim_read_in[start]:\n",
    "    hq.heappush(vertices, a)\n",
    "while prim.mst:\n",
    "    weight, next_node = hq.heappop()\n",
    "for i, j in enumerate(prim_read_in.tolist()):\n",
    "    hq.heappush(vertices, i)\n",
    "\n",
    "print(vertices)"
   ],
   "metadata": {
    "collapsed": false
   }
  },
  {
   "cell_type": "code",
   "execution_count": null,
   "outputs": [],
   "source": [
    "prim.mst = []  # Initialize mst as a priority queue\n",
    "hq.heapify(prim.mst)\n",
    "\n",
    "outgoing_edges = []  # Initialize outgoing_edges as a priority queue\n",
    "hq.heapify(outgoing_edges)"
   ],
   "metadata": {
    "collapsed": false
   }
  },
  {
   "cell_type": "code",
   "execution_count": 95,
   "outputs": [
    {
     "name": "stdout",
     "output_type": "stream",
     "text": [
      "0.0\n",
      "5.0\n",
      "0.0\n",
      "5.0\n",
      "5.0\n",
      "0.0\n",
      "1.0\n",
      "2.0\n",
      "0.0\n",
      "1.0\n",
      "0.0\n",
      "4.0\n",
      "5.0\n",
      "2.0\n",
      "4.0\n",
      "0.0\n"
     ]
    }
   ],
   "source": [
    "visited = set()  # Initialize a set to keep track of visited nodes\n",
    "weights = []\n",
    "for i, j in enumerate(prim_read_in.tolist()):\n",
    "\n",
    "    visited.add(i)  # Add vertex to visited\n",
    "\n",
    "\n",
    "\n",
    "for i, j in enumerate(prim_read_in.tolist()):\n",
    "    visited.add(i)  # Add vertex to visited\n",
    "    for edges in prim_read_in.tolist()[i]:  # Access adjacency matrix values\n",
    "        hq.heappush(outgoing_edges, edges)  # Push all edge weights from one node to heap\n",
    "        outgoing_edges.sort()  # Sort edges by weight\n",
    "        weights.add(hq.heappop(outgoing_edges))  # Add smallest weight of neighboring edges\n",
    "\n",
    "\n",
    "    hq.heappush(prim.mst, prim_read_in[i])  # Add\n",
    "    weights.add(hq.heappop(outgoing_edges))  # Add smallest weight of neighboring edges\n",
    "\n",
    "# Need a while group to add nodes to visited\n",
    "\n",
    "outgoing_edges = []  # Initialize outgoing_edges as a priority queue\n",
    "hq.heapify(outgoing_edges)"
   ],
   "metadata": {
    "collapsed": false
   }
  },
  {
   "cell_type": "code",
   "execution_count": null,
   "outputs": [],
   "source": [],
   "metadata": {
    "collapsed": false
   }
  },
  {
   "cell_type": "code",
   "execution_count": null,
   "outputs": [],
   "source": [
    "# Add initial vertex\n",
    "visited"
   ],
   "metadata": {
    "collapsed": false
   }
  },
  {
   "cell_type": "code",
   "execution_count": null,
   "outputs": [],
   "source": [
    "while v not in visited:\n",
    "    # Pop lowest weight edge from priority queue\n",
    "    hq.heappop(outgoing_edges)\n",
    "\n",
    "    if next_v not in visited:\n",
    "        hq.heappush(self.mst, next_v)  # Add edge to mst\n",
    "        visited.add(next_v)"
   ],
   "metadata": {
    "collapsed": false
   }
  },
  {
   "cell_type": "code",
   "execution_count": null,
   "outputs": [],
   "source": [
    "total = 0                   # Total cost of edges in tree\n",
    "explored = set()            # Set of vertices in tree\n",
    "start = next(iter(graph))   # Arbitrary starting vertex\n",
    "unexplored = [(0, start)]   # Unexplored edges ordered by cost\n",
    "while unexplored:\n",
    "    cost, winner = heappop(unexplored)\n",
    "    if winner not in explored:\n",
    "        explored.add(winner)\n",
    "        total += cost\n",
    "        for neighbour, cost in graph[winner]:\n",
    "            if neighbour not in explored:\n",
    "                heappush(unexplored, (cost, neighbour))\n",
    "return total"
   ],
   "metadata": {
    "collapsed": false
   }
  },
  {
   "cell_type": "code",
   "execution_count": 204,
   "outputs": [],
   "source": [
    "from mst import Graph"
   ],
   "metadata": {
    "collapsed": false
   }
  },
  {
   "cell_type": "code",
   "execution_count": 205,
   "outputs": [],
   "source": [
    "prim_graph = Graph('./data/small.csv')\n"
   ],
   "metadata": {
    "collapsed": false
   }
  },
  {
   "cell_type": "code",
   "execution_count": 206,
   "outputs": [
    {
     "name": "stdout",
     "output_type": "stream",
     "text": [
      "<mst.graph.Graph object at 0x11d39cf90>\n"
     ]
    }
   ],
   "source": [
    "print(prim_graph)"
   ],
   "metadata": {
    "collapsed": false
   }
  },
  {
   "cell_type": "code",
   "execution_count": 210,
   "outputs": [
    {
     "data": {
      "text/plain": "4"
     },
     "execution_count": 210,
     "metadata": {},
     "output_type": "execute_result"
    }
   ],
   "source": [
    "len(prim_graph.adj_mat)"
   ],
   "metadata": {
    "collapsed": false
   }
  },
  {
   "cell_type": "code",
   "execution_count": 211,
   "outputs": [
    {
     "data": {
      "text/plain": "array([0., 5., 0., 5.])"
     },
     "execution_count": 211,
     "metadata": {},
     "output_type": "execute_result"
    }
   ],
   "source": [
    "prim_graph.adj_mat[0]"
   ],
   "metadata": {
    "collapsed": false
   }
  },
  {
   "cell_type": "code",
   "execution_count": null,
   "outputs": [],
   "source": [],
   "metadata": {
    "collapsed": false
   }
  }
 ],
 "metadata": {
  "kernelspec": {
   "display_name": "Python 3",
   "language": "python",
   "name": "python3"
  },
  "language_info": {
   "codemirror_mode": {
    "name": "ipython",
    "version": 2
   },
   "file_extension": ".py",
   "mimetype": "text/x-python",
   "name": "python",
   "nbconvert_exporter": "python",
   "pygments_lexer": "ipython2",
   "version": "2.7.6"
  }
 },
 "nbformat": 4,
 "nbformat_minor": 0
}
